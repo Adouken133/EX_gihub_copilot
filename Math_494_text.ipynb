{
 "cells": [
  {
   "cell_type": "markdown",
   "id": "391211cf",
   "metadata": {},
   "source": [
    "Example OF change image to array "
   ]
  },
  {
   "cell_type": "code",
   "execution_count": 1,
   "id": "0dae0b8c",
   "metadata": {},
   "outputs": [],
   "source": [
    "import numpy as np\n",
    "import matplotlib.pyplot as plt\n",
    "import math\n",
    "from matplotlib.image import imread\n",
    "import pandas as pd\n",
    "from pathlib import Path\n",
    "import cv2\n",
    "import os\n",
    "from numpy import array\n",
    "from math import *"
   ]
  },
  {
   "cell_type": "markdown",
   "id": "7d7ca82f",
   "metadata": {},
   "source": [
    "## Extract the Matrix From Video by frames"
   ]
  },
  {
   "cell_type": "code",
   "execution_count": 46,
   "id": "b9803a15",
   "metadata": {},
   "outputs": [],
   "source": [
    "# Open the video file\n",
    "cap = cv2.VideoCapture(\"E:\\Math_494\\Assignments\\monte_carlo_low.mp4\")\n",
    "\n",
    "# Check if the video file is opened successfully\n",
    "if not cap.isOpened():\n",
    "    print(\"Error opening video file\")\n",
    "\n",
    "# Read the frames from the video file and store them in a list\n",
    "frames = []\n",
    "while True:\n",
    "    ret, frame = cap.read()\n",
    "    if not ret:\n",
    "        break\n",
    "\n",
    "    # Convert the frame to grayscale and add it to the list of frames\n",
    "    gray = cv2.cvtColor(frame, cv2.COLOR_BGR2GRAY)\n",
    "    frames.append(gray.flatten())\n",
    "\n",
    "# Release the video file\n",
    "cap.release()\n",
    "X = np.array(frames)"
   ]
  },
  {
   "cell_type": "code",
   "execution_count": 48,
   "id": "19cb9c52",
   "metadata": {},
   "outputs": [
    {
     "data": {
      "text/plain": [
       "(379, 518400)"
      ]
     },
     "execution_count": 48,
     "metadata": {},
     "output_type": "execute_result"
    }
   ],
   "source": [
    "X.shape"
   ]
  },
  {
   "cell_type": "code",
   "execution_count": 50,
   "id": "33bd8676",
   "metadata": {},
   "outputs": [
    {
     "data": {
      "text/plain": [
       "(379, 518400)"
      ]
     },
     "execution_count": 50,
     "metadata": {},
     "output_type": "execute_result"
    }
   ],
   "source": [
    "## transpose the matrix in terms of 379 Columns and 518400 rows\n",
    "rvideo = (np.reshape(X,(379,518400))).transpose() "
   ]
  },
  {
   "cell_type": "markdown",
   "id": "f5ec66d0",
   "metadata": {},
   "source": [
    "## Compute DMD matrix Y = A*X by A = Y * (pesduo-inverse of X) "
   ]
  },
  {
   "cell_type": "code",
   "execution_count": 51,
   "id": "ceaa37b0",
   "metadata": {},
   "outputs": [
    {
     "data": {
      "text/plain": [
       "(518400, 378)"
      ]
     },
     "execution_count": 51,
     "metadata": {},
     "output_type": "execute_result"
    }
   ],
   "source": [
    "x=rvideo[:,:378] ## x (m-1) Matrix\n",
    "Y=rvideo[:,1:379]  ## x Matrix\n",
    "x.shape"
   ]
  },
  {
   "cell_type": "code",
   "execution_count": 52,
   "id": "c6734343",
   "metadata": {},
   "outputs": [],
   "source": [
    "## Use SVD Convert X to X'\n",
    "U,S,VT = np.linalg.svd(x,full_matrices=False)"
   ]
  },
  {
   "cell_type": "code",
   "execution_count": 53,
   "id": "e3e27d55",
   "metadata": {},
   "outputs": [],
   "source": [
    "## diagonlaize Singular values\n",
    "S = np.diag(S)"
   ]
  },
  {
   "cell_type": "code",
   "execution_count": 54,
   "id": "1ac28608",
   "metadata": {},
   "outputs": [],
   "source": [
    "r = 170   ##truncate at 99\n",
    "U=U[:,:r]\n",
    "S=S[:r,:r]\n",
    "VT=VT[:r,:]"
   ]
  },
  {
   "cell_type": "code",
   "execution_count": 55,
   "id": "75b8ac2f",
   "metadata": {},
   "outputs": [],
   "source": [
    "## Transpose U to U*\n",
    "U = np.matrix(U)\n",
    "UT = U.getH()"
   ]
  },
  {
   "cell_type": "code",
   "execution_count": 56,
   "id": "b439db3c",
   "metadata": {},
   "outputs": [
    {
     "data": {
      "text/plain": [
       "(170, 378)"
      ]
     },
     "execution_count": 56,
     "metadata": {},
     "output_type": "execute_result"
    }
   ],
   "source": [
    "##Compute x1 = UT.x\n",
    "x1=UT.dot(x)\n",
    "x1.shape"
   ]
  },
  {
   "cell_type": "code",
   "execution_count": 57,
   "id": "3f79586d",
   "metadata": {},
   "outputs": [],
   "source": [
    "## use same idea calculate Y\n",
    "U1,S1,VT1 = np.linalg.svd(Y,full_matrices=False)"
   ]
  },
  {
   "cell_type": "code",
   "execution_count": 58,
   "id": "d0de3d20",
   "metadata": {},
   "outputs": [],
   "source": [
    "## diagonlaize Singular values of Y\n",
    "S1 = np.diag(S1)"
   ]
  },
  {
   "cell_type": "code",
   "execution_count": 59,
   "id": "2aaa67da",
   "metadata": {},
   "outputs": [],
   "source": [
    "r = 170   ##truncate at 99\n",
    "U1=U1[:,:r]\n",
    "S1=S1[:r,:r]\n",
    "VT1=VT1[:r,:]"
   ]
  },
  {
   "cell_type": "code",
   "execution_count": 60,
   "id": "0f22b937",
   "metadata": {},
   "outputs": [],
   "source": [
    "## Transpose U to U*\n",
    "U1 = np.matrix(U1)\n",
    "UT1 = U1.getH()"
   ]
  },
  {
   "cell_type": "code",
   "execution_count": 61,
   "id": "bd9a38f8",
   "metadata": {},
   "outputs": [
    {
     "data": {
      "text/plain": [
       "(170, 378)"
      ]
     },
     "execution_count": 61,
     "metadata": {},
     "output_type": "execute_result"
    }
   ],
   "source": [
    "##Compute Y1 = UT1.Y\n",
    "Y1=UT1.dot(Y)\n",
    "Y1.shape"
   ]
  },
  {
   "cell_type": "code",
   "execution_count": 62,
   "id": "0c944973",
   "metadata": {},
   "outputs": [
    {
     "data": {
      "text/plain": [
       "(170, 170)"
      ]
     },
     "execution_count": 62,
     "metadata": {},
     "output_type": "execute_result"
    }
   ],
   "source": [
    "##Compute DMD A = Y1 * (pesduo-inverse of X1)\n",
    "A=Y1.dot(np.linalg.pinv(x1))\n",
    "A.shape"
   ]
  },
  {
   "cell_type": "code",
   "execution_count": 63,
   "id": "3266c55a",
   "metadata": {},
   "outputs": [],
   "source": [
    "eigenvalues, eigenvectors = np.linalg.eig(A)\n",
    "modes = np.dot(U, eigenvectors)"
   ]
  },
  {
   "cell_type": "code",
   "execution_count": 36,
   "id": "aa9ca009",
   "metadata": {},
   "outputs": [
    {
     "data": {
      "text/plain": [
       "(82, 82)"
      ]
     },
     "execution_count": 36,
     "metadata": {},
     "output_type": "execute_result"
    }
   ],
   "source": [
    "x11=np.diag(eigenvalues[np.abs(eigenvalues) < threshold])\n",
    "x11.shape"
   ]
  },
  {
   "cell_type": "code",
   "execution_count": 66,
   "id": "ff91e6b7",
   "metadata": {},
   "outputs": [
    {
     "ename": "NameError",
     "evalue": "name 'background_frames' is not defined",
     "output_type": "error",
     "traceback": [
      "\u001b[1;31m---------------------------------------------------------------------------\u001b[0m",
      "\u001b[1;31mNameError\u001b[0m                                 Traceback (most recent call last)",
      "\u001b[1;32m~\\AppData\\Local\\Temp\\ipykernel_7372\\1343910198.py\u001b[0m in \u001b[0;36m<module>\u001b[1;34m\u001b[0m\n\u001b[1;32m----> 1\u001b[1;33m \u001b[0mtype\u001b[0m\u001b[1;33m(\u001b[0m\u001b[0mbackground_frames\u001b[0m\u001b[1;33m)\u001b[0m\u001b[1;33m\u001b[0m\u001b[1;33m\u001b[0m\u001b[0m\n\u001b[0m",
      "\u001b[1;31mNameError\u001b[0m: name 'background_frames' is not defined"
     ]
    }
   ],
   "source": [
    "type(background_frames)"
   ]
  },
  {
   "cell_type": "code",
   "execution_count": 37,
   "id": "1bc2b865",
   "metadata": {},
   "outputs": [
    {
     "data": {
      "text/plain": [
       "(518400, 82)"
      ]
     },
     "execution_count": 37,
     "metadata": {},
     "output_type": "execute_result"
    }
   ],
   "source": [
    "background_modes.shape"
   ]
  },
  {
   "cell_type": "code",
   "execution_count": 29,
   "id": "5b490c4c",
   "metadata": {},
   "outputs": [
    {
     "name": "stderr",
     "output_type": "stream",
     "text": [
      "C:\\Users\\yifan\\anaconda3\\lib\\site-packages\\matplotlib\\cbook\\__init__.py:1298: ComplexWarning: Casting complex values to real discards the imaginary part\n",
      "  return np.asarray(x, float)\n"
     ]
    },
    {
     "data": {
      "text/plain": [
       "<function matplotlib.pyplot.show(close=None, block=None)>"
      ]
     },
     "execution_count": 29,
     "metadata": {},
     "output_type": "execute_result"
    },
    {
     "data": {
      "image/png": "[encoded data removed]",
      "text/plain": [
       "<Figure size 640x480 with 1 Axes>"
      ]
     },
     "metadata": {},
     "output_type": "display_data"
    }
   ],
   "source": [
    "plt.plot(eva,'ro')\n",
    "plt.show"
   ]
  },
  {
   "cell_type": "code",
   "execution_count": 30,
   "id": "3cd023d5",
   "metadata": {},
   "outputs": [
    {
     "data": {
      "text/plain": [
       "103"
      ]
     },
     "execution_count": 30,
     "metadata": {},
     "output_type": "execute_result"
    }
   ],
   "source": [
    "# ll=[]\n",
    "# eva1 =eva.tolist()\n",
    "# for i in eva:\n",
    "#     if i>0:\n",
    "#         ll.append(i)\n",
    "# len(ll)"
   ]
  },
  {
   "cell_type": "code",
   "execution_count": 67,
   "id": "ef83c923",
   "metadata": {},
   "outputs": [],
   "source": [
    "eva = np.diag(eva)\n",
    "eva1=eva.real\n",
    "eva2=eva.imag"
   ]
  },
  {
   "cell_type": "code",
   "execution_count": 48,
   "id": "b0620afb",
   "metadata": {},
   "outputs": [],
   "source": [
    "eva1 = np.diag(eva1)\n",
    "eva2 = np.diag(eva2)"
   ]
  },
  {
   "cell_type": "code",
   "execution_count": 69,
   "id": "d7ef81aa",
   "metadata": {},
   "outputs": [
    {
     "name": "stderr",
     "output_type": "stream",
     "text": [
      "C:\\Users\\yifan\\AppData\\Local\\Temp\\ipykernel_22536\\3457643766.py:2: RuntimeWarning: divide by zero encountered in log\n",
      "  omega = np.log(eva)/1\n",
      "C:\\Users\\yifan\\AppData\\Local\\Temp\\ipykernel_22536\\3457643766.py:2: RuntimeWarning: invalid value encountered in true_divide\n",
      "  omega = np.log(eva)/1\n",
      "C:\\Users\\yifan\\AppData\\Local\\Temp\\ipykernel_22536\\3457643766.py:3: RuntimeWarning: divide by zero encountered in log\n",
      "  omega2 = np.abs(np.log(eva)/1)\n",
      "C:\\Users\\yifan\\AppData\\Local\\Temp\\ipykernel_22536\\3457643766.py:3: RuntimeWarning: invalid value encountered in true_divide\n",
      "  omega2 = np.abs(np.log(eva)/1)\n"
     ]
    }
   ],
   "source": [
    "dt = 1\n",
    "omega = np.log(eva)/1\n",
    "omega2 = np.abs(np.log(eva)/1)"
   ]
  },
  {
   "cell_type": "code",
   "execution_count": 53,
   "id": "d1f50060",
   "metadata": {
    "collapsed": true
   },
   "outputs": [
    {
     "data": {
      "image/png": "[encoded data removed]",
      "text/plain": [
       "<Figure size 640x480 with 1 Axes>"
      ]
     },
     "metadata": {},
     "output_type": "display_data"
    }
   ],
   "source": [
    "angle = [2*pi/100*i for i in range(101)]\n",
    "radius = 1\n",
    "x = [radius*cos(i) for i in angle]\n",
    "y = [radius*sin(i) for i in angle]\n",
    "# z=plt.scatter(eva_r)\n",
    "plt.axis(\"equal\")\n",
    "plt.plot(x,y,omega,'ro')\n",
    "plt.show()"
   ]
  },
  {
   "cell_type": "code",
   "execution_count": 95,
   "id": "4a44cd54",
   "metadata": {},
   "outputs": [
    {
     "name": "stderr",
     "output_type": "stream",
     "text": [
      "C:\\Users\\yifan\\anaconda3\\lib\\site-packages\\matplotlib\\cbook\\__init__.py:1298: ComplexWarning: Casting complex values to real discards the imaginary part\n",
      "  return np.asarray(x, float)\n"
     ]
    },
    {
     "data": {
      "image/png": "[encoded data removed]",
      "text/plain": [
       "<Figure size 640x480 with 1 Axes>"
      ]
     },
     "metadata": {},
     "output_type": "display_data"
    }
   ],
   "source": [
    "om=np.sort(omega2)\n",
    "om1=np.sort(omega)\n",
    "plt.plot(omega,'ro')\n",
    "plt.show()"
   ]
  },
  {
   "cell_type": "code",
   "execution_count": 76,
   "id": "c266538e",
   "metadata": {},
   "outputs": [
    {
     "data": {
      "text/plain": [
       "(170, 170)"
      ]
     },
     "execution_count": 76,
     "metadata": {},
     "output_type": "execute_result"
    }
   ],
   "source": [
    "om"
   ]
  },
  {
   "cell_type": "markdown",
   "id": "e7ab1324",
   "metadata": {},
   "source": [
    "## Break point "
   ]
  },
  {
   "cell_type": "code",
   "execution_count": 186,
   "id": "cd6c0065",
   "metadata": {},
   "outputs": [
    {
     "data": {
      "image/png": "[encoded data removed]",
      "text/plain": [
       "<Figure size 640x480 with 1 Axes>"
      ]
     },
     "metadata": {},
     "output_type": "display_data"
    }
   ],
   "source": [
    "plt.figure(1)\n",
    "\n",
    "plt.semilogy(S1) ## Find the truncation\n",
    "\n",
    "plt.title('Singular Value')\n",
    "\n",
    "plt.show()\n",
    "  \n",
    "# plt.ylim([10, 5100000])  \n",
    "  \n",
    "# plt.xlim([0, 365])"
   ]
  }
 ],
 "metadata": {
  "kernelspec": {
   "display_name": "Python 3 (ipykernel)",
   "language": "python",
   "name": "python3"
  },
  "language_info": {
   "codemirror_mode": {
    "name": "ipython",
    "version": 3
   },
   "file_extension": ".py",
   "mimetype": "text/x-python",
   "name": "python",
   "nbconvert_exporter": "python",
   "pygments_lexer": "ipython3",
   "version": "3.9.13"
  }
 },
 "nbformat": 4,
 "nbformat_minor": 5
}
